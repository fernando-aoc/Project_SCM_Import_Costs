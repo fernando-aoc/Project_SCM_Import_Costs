{
 "cells": [
  {
   "cell_type": "markdown",
   "id": "7297aa65",
   "metadata": {},
   "source": [
    "# Modelo de Análise Prescitiva de Custos de Importação"
   ]
  },
  {
   "cell_type": "markdown",
   "id": "4577deea",
   "metadata": {},
   "source": [
    "##### # Importando Módulos"
   ]
  },
  {
   "cell_type": "code",
   "execution_count": 40,
   "id": "6d2add73",
   "metadata": {},
   "outputs": [],
   "source": [
    "import pandas as pd\n",
    "import math\n",
    "import matplotlib.pyplot as plt\n",
    "import seaborn as sns"
   ]
  },
  {
   "cell_type": "markdown",
   "id": "49bdedbb",
   "metadata": {},
   "source": [
    "## Parte I: Importando Dados e Definindo Variáveis Iniciais"
   ]
  },
  {
   "cell_type": "code",
   "execution_count": 41,
   "id": "91ae45f7",
   "metadata": {},
   "outputs": [],
   "source": [
    "frete_china = pd.read_excel('dados/Frete Aéreo - China.xlsx')\n",
    "frete_eua = pd.read_excel('dados/Frete Aéreo - EUA.xlsx')"
   ]
  },
  {
   "cell_type": "code",
   "execution_count": 42,
   "id": "fbe87432",
   "metadata": {},
   "outputs": [],
   "source": [
    "# Custo da unidade:\n",
    "\n",
    "custo_China = 12.10\n",
    "custo_EUA = 12.90\n",
    "\n",
    "# Dados da carga:\n",
    "\n",
    "lote_importacao = 5000\n",
    "\n",
    "# Unitização:\n",
    "\n",
    "unidades_por_caixa = 25\n",
    "\n",
    "caixa_m3 = 0.023\n",
    "\n",
    "caixa_peso_kg = 3\n",
    "\n",
    "# Despesas de despacho:\n",
    "\n",
    "despacho_exp_EUA = 1000\n",
    "\n",
    "despacho_exp_China = 1200\n",
    "\n",
    "despacho_importação = 1100\n",
    "\n",
    "# Transporte local:\n",
    "\n",
    "custo_transporte_EUA_veiculo = 500\n",
    "\n",
    "custo_transporte_China_veiculo = 600\n",
    "\n",
    "custo_transporte_destino_veiculo = 750\n",
    "\n",
    "# Veículo:\n",
    "\n",
    "veiculo_m3 = 11.2\n",
    "\n",
    "veiculo_capacidade_kg = 1500"
   ]
  },
  {
   "cell_type": "code",
   "execution_count": 43,
   "id": "c373fa64",
   "metadata": {},
   "outputs": [
    {
     "data": {
      "text/html": [
       "<div>\n",
       "<style scoped>\n",
       "    .dataframe tbody tr th:only-of-type {\n",
       "        vertical-align: middle;\n",
       "    }\n",
       "\n",
       "    .dataframe tbody tr th {\n",
       "        vertical-align: top;\n",
       "    }\n",
       "\n",
       "    .dataframe thead th {\n",
       "        text-align: right;\n",
       "    }\n",
       "</style>\n",
       "<table border=\"1\" class=\"dataframe\">\n",
       "  <thead>\n",
       "    <tr style=\"text-align: right;\">\n",
       "      <th></th>\n",
       "      <th>tabela lata ( fator de cubagem : 166,67 kg/m3)</th>\n",
       "      <th>Unnamed: 1</th>\n",
       "    </tr>\n",
       "  </thead>\n",
       "  <tbody>\n",
       "    <tr>\n",
       "      <th>0</th>\n",
       "      <td>frete aéreo - peso cubado</td>\n",
       "      <td>unitário</td>\n",
       "    </tr>\n",
       "    <tr>\n",
       "      <th>1</th>\n",
       "      <td>de 0,00 até 350 kg.</td>\n",
       "      <td>$ 20,00</td>\n",
       "    </tr>\n",
       "    <tr>\n",
       "      <th>2</th>\n",
       "      <td>de 350,01 até 650 kg.</td>\n",
       "      <td>$ 18,00</td>\n",
       "    </tr>\n",
       "    <tr>\n",
       "      <th>3</th>\n",
       "      <td>de 650,01 até 900 kg.</td>\n",
       "      <td>$ 16,00</td>\n",
       "    </tr>\n",
       "    <tr>\n",
       "      <th>4</th>\n",
       "      <td>de 900,01 até 1.400 kg.</td>\n",
       "      <td>$ 14,00</td>\n",
       "    </tr>\n",
       "    <tr>\n",
       "      <th>5</th>\n",
       "      <td>de 1.400,01 até 1.800 kg.</td>\n",
       "      <td>$ 12,00</td>\n",
       "    </tr>\n",
       "    <tr>\n",
       "      <th>6</th>\n",
       "      <td>acima de 1.800 kg.</td>\n",
       "      <td>$ 9,50</td>\n",
       "    </tr>\n",
       "  </tbody>\n",
       "</table>\n",
       "</div>"
      ],
      "text/plain": [
       "  tabela lata ( fator de cubagem : 166,67 kg/m3) Unnamed: 1\n",
       "0                      frete aéreo - peso cubado   unitário\n",
       "1                            de 0,00 até 350 kg.    $ 20,00\n",
       "2                          de 350,01 até 650 kg.    $ 18,00\n",
       "3                          de 650,01 até 900 kg.    $ 16,00\n",
       "4                        de 900,01 até 1.400 kg.    $ 14,00\n",
       "5                      de 1.400,01 até 1.800 kg.    $ 12,00\n",
       "6                             acima de 1.800 kg.     $ 9,50"
      ]
     },
     "execution_count": 43,
     "metadata": {},
     "output_type": "execute_result"
    }
   ],
   "source": [
    "#custos de frete:\n",
    "\n",
    "#China:\n",
    "\n",
    "frete_china"
   ]
  },
  {
   "cell_type": "code",
   "execution_count": 44,
   "id": "562e0c90",
   "metadata": {},
   "outputs": [
    {
     "data": {
      "text/html": [
       "<div>\n",
       "<style scoped>\n",
       "    .dataframe tbody tr th:only-of-type {\n",
       "        vertical-align: middle;\n",
       "    }\n",
       "\n",
       "    .dataframe tbody tr th {\n",
       "        vertical-align: top;\n",
       "    }\n",
       "\n",
       "    .dataframe thead th {\n",
       "        text-align: right;\n",
       "    }\n",
       "</style>\n",
       "<table border=\"1\" class=\"dataframe\">\n",
       "  <thead>\n",
       "    <tr style=\"text-align: right;\">\n",
       "      <th></th>\n",
       "      <th>tabela lata ( fator de cubagem : 166,67 kg/m3)</th>\n",
       "      <th>Unnamed: 1</th>\n",
       "    </tr>\n",
       "  </thead>\n",
       "  <tbody>\n",
       "    <tr>\n",
       "      <th>0</th>\n",
       "      <td>frete aéreo - peso cubado</td>\n",
       "      <td>unitário</td>\n",
       "    </tr>\n",
       "    <tr>\n",
       "      <th>1</th>\n",
       "      <td>de 0,00 até 350 kg.</td>\n",
       "      <td>$ 12,00</td>\n",
       "    </tr>\n",
       "    <tr>\n",
       "      <th>2</th>\n",
       "      <td>de 350,01 até 650 kg.</td>\n",
       "      <td>$ 10,00</td>\n",
       "    </tr>\n",
       "    <tr>\n",
       "      <th>3</th>\n",
       "      <td>de 650,01 até 900 kg.</td>\n",
       "      <td>$ 8,00</td>\n",
       "    </tr>\n",
       "    <tr>\n",
       "      <th>4</th>\n",
       "      <td>de 900,01 até 1.400 kg.</td>\n",
       "      <td>$ 7,00</td>\n",
       "    </tr>\n",
       "    <tr>\n",
       "      <th>5</th>\n",
       "      <td>de 1.400,01 até 1.800 kg.</td>\n",
       "      <td>$ 6,00</td>\n",
       "    </tr>\n",
       "    <tr>\n",
       "      <th>6</th>\n",
       "      <td>acima de 1.800 kg.</td>\n",
       "      <td>$ 5,00</td>\n",
       "    </tr>\n",
       "  </tbody>\n",
       "</table>\n",
       "</div>"
      ],
      "text/plain": [
       "  tabela lata ( fator de cubagem : 166,67 kg/m3) Unnamed: 1\n",
       "0                      frete aéreo - peso cubado   unitário\n",
       "1                            de 0,00 até 350 kg.    $ 12,00\n",
       "2                          de 350,01 até 650 kg.    $ 10,00\n",
       "3                          de 650,01 até 900 kg.     $ 8,00\n",
       "4                        de 900,01 até 1.400 kg.     $ 7,00\n",
       "5                      de 1.400,01 até 1.800 kg.     $ 6,00\n",
       "6                             acima de 1.800 kg.     $ 5,00"
      ]
     },
     "execution_count": 44,
     "metadata": {},
     "output_type": "execute_result"
    }
   ],
   "source": [
    "#EUA:\n",
    "\n",
    "frete_eua"
   ]
  },
  {
   "cell_type": "code",
   "execution_count": 45,
   "id": "ec68723a",
   "metadata": {},
   "outputs": [],
   "source": [
    "# Custo de desembarque do caminhão:\n",
    "\n",
    "custo_desembarque_caminhao = 80\n",
    "\n",
    "# Custo dos terminais:\n",
    "\n",
    "custo_terminal_EUA_m3 = 100\n",
    "custo_terminal_China_m3 = 90\n",
    "# custo_terminal_Destino = CIP * 0.01\n",
    "\n",
    "# Custo do seguro internacional:\n",
    "\n",
    "# seguro = CPT * 0.05\n",
    "\n",
    "# Tributos:\n",
    "\n",
    "# impostos = CPT * 0.55"
   ]
  },
  {
   "cell_type": "code",
   "execution_count": 46,
   "id": "84dc4f56",
   "metadata": {},
   "outputs": [
    {
     "name": "stdout",
     "output_type": "stream",
     "text": [
      "O número total de caixas é 200.0.\n"
     ]
    }
   ],
   "source": [
    "numero_caixas = lote_importacao / unidades_por_caixa\n",
    "print(\"O número total de caixas é {}.\".format(numero_caixas))"
   ]
  },
  {
   "cell_type": "code",
   "execution_count": 47,
   "id": "3a2c8ebf",
   "metadata": {},
   "outputs": [
    {
     "name": "stdout",
     "output_type": "stream",
     "text": [
      "O total de m3 das caixas é 4.6.\n"
     ]
    }
   ],
   "source": [
    "m3_total_caixas = numero_caixas * caixa_m3\n",
    "print(\"O total de m3 das caixas é {}.\".format(m3_total_caixas))"
   ]
  },
  {
   "cell_type": "code",
   "execution_count": 48,
   "id": "48db46a9",
   "metadata": {},
   "outputs": [
    {
     "name": "stdout",
     "output_type": "stream",
     "text": [
      "O peso total das caixas é 600.0 kg.\n"
     ]
    }
   ],
   "source": [
    "peso_total_caixas = caixa_peso_kg * numero_caixas\n",
    "print(\"O peso total das caixas é {} kg.\".format(peso_total_caixas))"
   ]
  },
  {
   "cell_type": "code",
   "execution_count": 49,
   "id": "51ea6037",
   "metadata": {},
   "outputs": [
    {
     "name": "stdout",
     "output_type": "stream",
     "text": [
      "Como estamos utilizando 40.54% da capacidade do caminhão, será necessário 1 caminhão(ões).\n"
     ]
    }
   ],
   "source": [
    "taxa_utilizacao_caminhao = ((m3_total_caixas / veiculo_m3) + (peso_total_caixas / veiculo_capacidade_kg)) / 2\n",
    "print(\"Como estamos utilizando {}% da capacidade do caminhão, será necessário {} caminhão(ões).\".format(100 * (round(taxa_utilizacao_caminhao, 4)), (1 if taxa_utilizacao_caminhao < 1 else math.ceil(taxa_utilizacao_caminhao))))"
   ]
  },
  {
   "cell_type": "markdown",
   "id": "6bd959ef",
   "metadata": {},
   "source": [
    "## Parte II: Calculando Custos"
   ]
  },
  {
   "cell_type": "markdown",
   "id": "e7350a44",
   "metadata": {},
   "source": [
    "### Calculando Importação da China"
   ]
  },
  {
   "cell_type": "markdown",
   "id": "2bec80e0",
   "metadata": {},
   "source": [
    "#### FCA:"
   ]
  },
  {
   "cell_type": "code",
   "execution_count": 50,
   "id": "69ebfc15",
   "metadata": {},
   "outputs": [
    {
     "data": {
      "text/plain": [
       "60500.0"
      ]
     },
     "execution_count": 50,
     "metadata": {},
     "output_type": "execute_result"
    }
   ],
   "source": [
    "custos_total_mecadoria = lote_importacao * custo_China\n",
    "custos_total_mecadoria"
   ]
  },
  {
   "cell_type": "code",
   "execution_count": 51,
   "id": "80e077ee",
   "metadata": {},
   "outputs": [
    {
     "data": {
      "text/plain": [
       "413.99999999999994"
      ]
     },
     "execution_count": 51,
     "metadata": {},
     "output_type": "execute_result"
    }
   ],
   "source": [
    "custos_total_terminal = m3_total_caixas * custo_terminal_China_m3\n",
    "custos_total_terminal"
   ]
  },
  {
   "cell_type": "code",
   "execution_count": 52,
   "id": "fc851f48",
   "metadata": {},
   "outputs": [
    {
     "name": "stdout",
     "output_type": "stream",
     "text": [
      "O custo total do FCA da importação da China é de 62714.0 USD.\n"
     ]
    }
   ],
   "source": [
    "FCA_Custo_Total_China = custos_total_mecadoria + custo_transporte_China_veiculo + custos_total_terminal + despacho_exp_China\n",
    "print (\"O custo total do FCA da importação da China é de {} USD.\".format(FCA_Custo_Total_China))"
   ]
  },
  {
   "cell_type": "markdown",
   "id": "4f211cdd",
   "metadata": {},
   "source": [
    "#### CPT:"
   ]
  },
  {
   "cell_type": "code",
   "execution_count": 53,
   "id": "065d28c0",
   "metadata": {},
   "outputs": [
    {
     "data": {
      "text/html": [
       "<div>\n",
       "<style scoped>\n",
       "    .dataframe tbody tr th:only-of-type {\n",
       "        vertical-align: middle;\n",
       "    }\n",
       "\n",
       "    .dataframe tbody tr th {\n",
       "        vertical-align: top;\n",
       "    }\n",
       "\n",
       "    .dataframe thead th {\n",
       "        text-align: right;\n",
       "    }\n",
       "</style>\n",
       "<table border=\"1\" class=\"dataframe\">\n",
       "  <thead>\n",
       "    <tr style=\"text-align: right;\">\n",
       "      <th></th>\n",
       "      <th>tabela lata ( fator de cubagem : 166,67 kg/m3)</th>\n",
       "      <th>Unnamed: 1</th>\n",
       "    </tr>\n",
       "  </thead>\n",
       "  <tbody>\n",
       "    <tr>\n",
       "      <th>0</th>\n",
       "      <td>frete aéreo - peso cubado</td>\n",
       "      <td>unitário</td>\n",
       "    </tr>\n",
       "    <tr>\n",
       "      <th>1</th>\n",
       "      <td>de 0,00 até 350 kg.</td>\n",
       "      <td>$ 20,00</td>\n",
       "    </tr>\n",
       "    <tr>\n",
       "      <th>2</th>\n",
       "      <td>de 350,01 até 650 kg.</td>\n",
       "      <td>$ 18,00</td>\n",
       "    </tr>\n",
       "    <tr>\n",
       "      <th>3</th>\n",
       "      <td>de 650,01 até 900 kg.</td>\n",
       "      <td>$ 16,00</td>\n",
       "    </tr>\n",
       "    <tr>\n",
       "      <th>4</th>\n",
       "      <td>de 900,01 até 1.400 kg.</td>\n",
       "      <td>$ 14,00</td>\n",
       "    </tr>\n",
       "    <tr>\n",
       "      <th>5</th>\n",
       "      <td>de 1.400,01 até 1.800 kg.</td>\n",
       "      <td>$ 12,00</td>\n",
       "    </tr>\n",
       "    <tr>\n",
       "      <th>6</th>\n",
       "      <td>acima de 1.800 kg.</td>\n",
       "      <td>$ 9,50</td>\n",
       "    </tr>\n",
       "  </tbody>\n",
       "</table>\n",
       "</div>"
      ],
      "text/plain": [
       "  tabela lata ( fator de cubagem : 166,67 kg/m3) Unnamed: 1\n",
       "0                      frete aéreo - peso cubado   unitário\n",
       "1                            de 0,00 até 350 kg.    $ 20,00\n",
       "2                          de 350,01 até 650 kg.    $ 18,00\n",
       "3                          de 650,01 até 900 kg.    $ 16,00\n",
       "4                        de 900,01 até 1.400 kg.    $ 14,00\n",
       "5                      de 1.400,01 até 1.800 kg.    $ 12,00\n",
       "6                             acima de 1.800 kg.     $ 9,50"
      ]
     },
     "execution_count": 53,
     "metadata": {},
     "output_type": "execute_result"
    }
   ],
   "source": [
    "frete_china"
   ]
  },
  {
   "cell_type": "code",
   "execution_count": 54,
   "id": "e6dc3b03",
   "metadata": {},
   "outputs": [
    {
     "data": {
      "text/plain": [
       "82.8"
      ]
     },
     "execution_count": 54,
     "metadata": {},
     "output_type": "execute_result"
    }
   ],
   "source": [
    "Custo_frete_aereo = m3_total_caixas * 18\n",
    "Custo_frete_aereo"
   ]
  },
  {
   "cell_type": "code",
   "execution_count": 55,
   "id": "b464bc9e",
   "metadata": {},
   "outputs": [
    {
     "name": "stdout",
     "output_type": "stream",
     "text": [
      "O custo total do CPT da importação da China é de 62796.8 USD.\n"
     ]
    }
   ],
   "source": [
    "CPT_Custo_Total_China = FCA_Custo_Total_China + Custo_frete_aereo\n",
    "print (\"O custo total do CPT da importação da China é de {} USD.\".format(CPT_Custo_Total_China))"
   ]
  },
  {
   "cell_type": "markdown",
   "id": "64366f5f",
   "metadata": {},
   "source": [
    "#### CIP:"
   ]
  },
  {
   "cell_type": "code",
   "execution_count": 56,
   "id": "597111ea",
   "metadata": {
    "scrolled": true
   },
   "outputs": [
    {
     "data": {
      "text/plain": [
       "3139.84"
      ]
     },
     "execution_count": 56,
     "metadata": {},
     "output_type": "execute_result"
    }
   ],
   "source": [
    "seguro = CPT_Custo_Total_China * 0.05\n",
    "seguro"
   ]
  },
  {
   "cell_type": "code",
   "execution_count": 57,
   "id": "562d606f",
   "metadata": {},
   "outputs": [
    {
     "name": "stdout",
     "output_type": "stream",
     "text": [
      "O custo total do CIP da importação da China é de 65936.64 USD.\n"
     ]
    }
   ],
   "source": [
    "CIP_Custo_Total_China = CPT_Custo_Total_China + seguro\n",
    "print (\"O custo total do CIP da importação da China é de {} USD.\".format(CIP_Custo_Total_China))"
   ]
  },
  {
   "cell_type": "markdown",
   "id": "0e5fb62f",
   "metadata": {},
   "source": [
    "#### DAP:"
   ]
  },
  {
   "cell_type": "code",
   "execution_count": 58,
   "id": "54e5a3fb",
   "metadata": {},
   "outputs": [
    {
     "data": {
      "text/plain": [
       "659.37"
      ]
     },
     "execution_count": 58,
     "metadata": {},
     "output_type": "execute_result"
    }
   ],
   "source": [
    "custo_terminal_Destino = CIP_Custo_Total_China * 0.01\n",
    "custo_terminal_Destino = round(custo_terminal_Destino, 2)\n",
    "custo_terminal_Destino"
   ]
  },
  {
   "cell_type": "code",
   "execution_count": 59,
   "id": "65aa0e2d",
   "metadata": {},
   "outputs": [
    {
     "name": "stdout",
     "output_type": "stream",
     "text": [
      "O custo total do DAP da importação da China é de 67346.01 USD.\n"
     ]
    }
   ],
   "source": [
    "DAP_Custo_Total_China = CIP_Custo_Total_China + custo_terminal_Destino + custo_transporte_destino_veiculo\n",
    "print (\"O custo total do DAP da importação da China é de {} USD.\".format(DAP_Custo_Total_China))"
   ]
  },
  {
   "cell_type": "markdown",
   "id": "7cce955a",
   "metadata": {},
   "source": [
    "#### DPU:"
   ]
  },
  {
   "cell_type": "code",
   "execution_count": 60,
   "id": "29aa8c15",
   "metadata": {},
   "outputs": [
    {
     "name": "stdout",
     "output_type": "stream",
     "text": [
      "O custo total do DPU da importação da China é de 67426.01 USD.\n"
     ]
    }
   ],
   "source": [
    "DPU_Custo_Total_China = DAP_Custo_Total_China + custo_desembarque_caminhao\n",
    "print (\"O custo total do DPU da importação da China é de {} USD.\".format(DPU_Custo_Total_China))"
   ]
  },
  {
   "cell_type": "markdown",
   "id": "dee95cc3",
   "metadata": {},
   "source": [
    "#### DDP:"
   ]
  },
  {
   "cell_type": "code",
   "execution_count": 61,
   "id": "02380b4c",
   "metadata": {},
   "outputs": [],
   "source": [
    "impostos = CPT_Custo_Total_China * 0.55"
   ]
  },
  {
   "cell_type": "code",
   "execution_count": 62,
   "id": "766507de",
   "metadata": {},
   "outputs": [
    {
     "name": "stdout",
     "output_type": "stream",
     "text": [
      "O custo total do DDP da importação da China é de 103064.25 USD.\n"
     ]
    }
   ],
   "source": [
    "DDP_Custo_Total_China = DPU_Custo_Total_China + impostos + despacho_importação\n",
    "print (\"O custo total do DDP da importação da China é de {} USD.\".format(DDP_Custo_Total_China))"
   ]
  },
  {
   "cell_type": "markdown",
   "id": "b068afc8",
   "metadata": {},
   "source": [
    "### Calculando Importação dos EUA"
   ]
  },
  {
   "cell_type": "markdown",
   "id": "d7670af9",
   "metadata": {},
   "source": [
    "#### FCA:"
   ]
  },
  {
   "cell_type": "code",
   "execution_count": 63,
   "id": "0e61ed02",
   "metadata": {},
   "outputs": [
    {
     "data": {
      "text/plain": [
       "64500.0"
      ]
     },
     "execution_count": 63,
     "metadata": {},
     "output_type": "execute_result"
    }
   ],
   "source": [
    "custos_total_mecadoria = lote_importacao * custo_EUA\n",
    "custos_total_mecadoria"
   ]
  },
  {
   "cell_type": "code",
   "execution_count": 64,
   "id": "679a4ddb",
   "metadata": {},
   "outputs": [
    {
     "data": {
      "text/plain": [
       "459.99999999999994"
      ]
     },
     "execution_count": 64,
     "metadata": {},
     "output_type": "execute_result"
    }
   ],
   "source": [
    "custos_total_terminal = m3_total_caixas * custo_terminal_EUA_m3\n",
    "custos_total_terminal"
   ]
  },
  {
   "cell_type": "code",
   "execution_count": 65,
   "id": "28895153",
   "metadata": {},
   "outputs": [
    {
     "name": "stdout",
     "output_type": "stream",
     "text": [
      "O custo total do FCA da importação dos EUA é de 66460.0 USD\n"
     ]
    }
   ],
   "source": [
    "FCA_Custo_Total_EUA = custos_total_mecadoria + custo_transporte_EUA_veiculo + custos_total_terminal + despacho_exp_EUA\n",
    "print (\"O custo total do FCA da importação dos EUA é de {} USD\".format(FCA_Custo_Total_EUA))"
   ]
  },
  {
   "cell_type": "markdown",
   "id": "c5770503",
   "metadata": {},
   "source": [
    "#### CPT:"
   ]
  },
  {
   "cell_type": "code",
   "execution_count": 66,
   "id": "1afa3bb5",
   "metadata": {},
   "outputs": [
    {
     "data": {
      "text/html": [
       "<div>\n",
       "<style scoped>\n",
       "    .dataframe tbody tr th:only-of-type {\n",
       "        vertical-align: middle;\n",
       "    }\n",
       "\n",
       "    .dataframe tbody tr th {\n",
       "        vertical-align: top;\n",
       "    }\n",
       "\n",
       "    .dataframe thead th {\n",
       "        text-align: right;\n",
       "    }\n",
       "</style>\n",
       "<table border=\"1\" class=\"dataframe\">\n",
       "  <thead>\n",
       "    <tr style=\"text-align: right;\">\n",
       "      <th></th>\n",
       "      <th>tabela lata ( fator de cubagem : 166,67 kg/m3)</th>\n",
       "      <th>Unnamed: 1</th>\n",
       "    </tr>\n",
       "  </thead>\n",
       "  <tbody>\n",
       "    <tr>\n",
       "      <th>0</th>\n",
       "      <td>frete aéreo - peso cubado</td>\n",
       "      <td>unitário</td>\n",
       "    </tr>\n",
       "    <tr>\n",
       "      <th>1</th>\n",
       "      <td>de 0,00 até 350 kg.</td>\n",
       "      <td>$ 12,00</td>\n",
       "    </tr>\n",
       "    <tr>\n",
       "      <th>2</th>\n",
       "      <td>de 350,01 até 650 kg.</td>\n",
       "      <td>$ 10,00</td>\n",
       "    </tr>\n",
       "    <tr>\n",
       "      <th>3</th>\n",
       "      <td>de 650,01 até 900 kg.</td>\n",
       "      <td>$ 8,00</td>\n",
       "    </tr>\n",
       "    <tr>\n",
       "      <th>4</th>\n",
       "      <td>de 900,01 até 1.400 kg.</td>\n",
       "      <td>$ 7,00</td>\n",
       "    </tr>\n",
       "    <tr>\n",
       "      <th>5</th>\n",
       "      <td>de 1.400,01 até 1.800 kg.</td>\n",
       "      <td>$ 6,00</td>\n",
       "    </tr>\n",
       "    <tr>\n",
       "      <th>6</th>\n",
       "      <td>acima de 1.800 kg.</td>\n",
       "      <td>$ 5,00</td>\n",
       "    </tr>\n",
       "  </tbody>\n",
       "</table>\n",
       "</div>"
      ],
      "text/plain": [
       "  tabela lata ( fator de cubagem : 166,67 kg/m3) Unnamed: 1\n",
       "0                      frete aéreo - peso cubado   unitário\n",
       "1                            de 0,00 até 350 kg.    $ 12,00\n",
       "2                          de 350,01 até 650 kg.    $ 10,00\n",
       "3                          de 650,01 até 900 kg.     $ 8,00\n",
       "4                        de 900,01 até 1.400 kg.     $ 7,00\n",
       "5                      de 1.400,01 até 1.800 kg.     $ 6,00\n",
       "6                             acima de 1.800 kg.     $ 5,00"
      ]
     },
     "execution_count": 66,
     "metadata": {},
     "output_type": "execute_result"
    }
   ],
   "source": [
    "frete_eua"
   ]
  },
  {
   "cell_type": "code",
   "execution_count": 67,
   "id": "40e76a4c",
   "metadata": {},
   "outputs": [
    {
     "data": {
      "text/plain": [
       "46.0"
      ]
     },
     "execution_count": 67,
     "metadata": {},
     "output_type": "execute_result"
    }
   ],
   "source": [
    "Custo_frete_aereo = m3_total_caixas * 10\n",
    "Custo_frete_aereo"
   ]
  },
  {
   "cell_type": "code",
   "execution_count": 68,
   "id": "0e550b17",
   "metadata": {},
   "outputs": [
    {
     "name": "stdout",
     "output_type": "stream",
     "text": [
      "O custo total do CPT da importação dos EUA é de 66506.0 USD.\n"
     ]
    }
   ],
   "source": [
    "CPT_Custo_Total_EUA = FCA_Custo_Total_EUA + Custo_frete_aereo\n",
    "print (\"O custo total do CPT da importação dos EUA é de {} USD.\".format(CPT_Custo_Total_EUA))"
   ]
  },
  {
   "cell_type": "markdown",
   "id": "29116872",
   "metadata": {},
   "source": [
    "#### CIP:"
   ]
  },
  {
   "cell_type": "code",
   "execution_count": 69,
   "id": "f54fc4d8",
   "metadata": {},
   "outputs": [
    {
     "data": {
      "text/plain": [
       "3325.3"
      ]
     },
     "execution_count": 69,
     "metadata": {},
     "output_type": "execute_result"
    }
   ],
   "source": [
    "seguro = CPT_Custo_Total_EUA * 0.05\n",
    "seguro"
   ]
  },
  {
   "cell_type": "code",
   "execution_count": 70,
   "id": "a18161c2",
   "metadata": {},
   "outputs": [
    {
     "name": "stdout",
     "output_type": "stream",
     "text": [
      "O custo total do CIP da importação dos EUA é de 69831.3 USD.\n"
     ]
    }
   ],
   "source": [
    "CIP_Custo_Total_EUA = CPT_Custo_Total_EUA + seguro\n",
    "print (\"O custo total do CIP da importação dos EUA é de {} USD.\".format(CIP_Custo_Total_EUA))"
   ]
  },
  {
   "cell_type": "markdown",
   "id": "ed6be0ec",
   "metadata": {},
   "source": [
    "#### DAP:"
   ]
  },
  {
   "cell_type": "code",
   "execution_count": 71,
   "id": "b9d0fb53",
   "metadata": {},
   "outputs": [
    {
     "data": {
      "text/plain": [
       "698.31"
      ]
     },
     "execution_count": 71,
     "metadata": {},
     "output_type": "execute_result"
    }
   ],
   "source": [
    "custo_terminal_Destino = CIP_Custo_Total_EUA * 0.01\n",
    "custo_terminal_Destino = round(custo_terminal_Destino, 2)\n",
    "custo_terminal_Destino"
   ]
  },
  {
   "cell_type": "code",
   "execution_count": 72,
   "id": "26b3bfed",
   "metadata": {},
   "outputs": [
    {
     "name": "stdout",
     "output_type": "stream",
     "text": [
      "O custo total do DAP da importação dos EUA é de 71279.61 USD.\n"
     ]
    }
   ],
   "source": [
    "DAP_Custo_Total_EUA = CIP_Custo_Total_EUA + custo_terminal_Destino + custo_transporte_destino_veiculo\n",
    "print (\"O custo total do DAP da importação dos EUA é de {} USD.\".format(round(DAP_Custo_Total_EUA, 2)))"
   ]
  },
  {
   "cell_type": "markdown",
   "id": "66c4d349",
   "metadata": {},
   "source": [
    "#### DPU:"
   ]
  },
  {
   "cell_type": "code",
   "execution_count": 73,
   "id": "47de6d5c",
   "metadata": {},
   "outputs": [
    {
     "name": "stdout",
     "output_type": "stream",
     "text": [
      "O custo total do DPU da importação dOs EUA é de 71359.61 USD.\n"
     ]
    }
   ],
   "source": [
    "DPU_Custo_Total_EUA = DAP_Custo_Total_EUA + custo_desembarque_caminhao\n",
    "print (\"O custo total do DPU da importação dOs EUA é de {} USD.\".format(round(DPU_Custo_Total_EUA, 2)))"
   ]
  },
  {
   "cell_type": "markdown",
   "id": "46760672",
   "metadata": {},
   "source": [
    "#### DDP:"
   ]
  },
  {
   "cell_type": "code",
   "execution_count": 74,
   "id": "7ec1140e",
   "metadata": {},
   "outputs": [],
   "source": [
    "impostos = CPT_Custo_Total_EUA * 0.55"
   ]
  },
  {
   "cell_type": "code",
   "execution_count": 75,
   "id": "b9cf5d2e",
   "metadata": {},
   "outputs": [
    {
     "name": "stdout",
     "output_type": "stream",
     "text": [
      "O custo total do DDP da importação dos EUA é de 109037.91 USD.\n"
     ]
    }
   ],
   "source": [
    "DDP_Custo_Total_EUA = DPU_Custo_Total_EUA + impostos + despacho_importação\n",
    "print (\"O custo total do DDP da importação dos EUA é de {} USD.\".format(DDP_Custo_Total_EUA))"
   ]
  },
  {
   "cell_type": "markdown",
   "id": "a57e9a01",
   "metadata": {},
   "source": [
    "#### # Plotando gráfico para comparar os custos"
   ]
  },
  {
   "cell_type": "code",
   "execution_count": 76,
   "id": "88087c8a",
   "metadata": {},
   "outputs": [
    {
     "data": {
      "text/html": [
       "<div>\n",
       "<style scoped>\n",
       "    .dataframe tbody tr th:only-of-type {\n",
       "        vertical-align: middle;\n",
       "    }\n",
       "\n",
       "    .dataframe tbody tr th {\n",
       "        vertical-align: top;\n",
       "    }\n",
       "\n",
       "    .dataframe thead th {\n",
       "        text-align: right;\n",
       "    }\n",
       "</style>\n",
       "<table border=\"1\" class=\"dataframe\">\n",
       "  <thead>\n",
       "    <tr style=\"text-align: right;\">\n",
       "      <th></th>\n",
       "      <th>ID</th>\n",
       "      <th>Name</th>\n",
       "      <th>Age</th>\n",
       "      <th>Location</th>\n",
       "    </tr>\n",
       "  </thead>\n",
       "  <tbody>\n",
       "    <tr>\n",
       "      <th>Person_1</th>\n",
       "      <td>NaN</td>\n",
       "      <td>Alice</td>\n",
       "      <td>25</td>\n",
       "      <td>NaN</td>\n",
       "    </tr>\n",
       "    <tr>\n",
       "      <th>Person_2</th>\n",
       "      <td>NaN</td>\n",
       "      <td>Bob</td>\n",
       "      <td>30</td>\n",
       "      <td>NaN</td>\n",
       "    </tr>\n",
       "    <tr>\n",
       "      <th>Person_3</th>\n",
       "      <td>NaN</td>\n",
       "      <td>Charlie</td>\n",
       "      <td>35</td>\n",
       "      <td>NaN</td>\n",
       "    </tr>\n",
       "    <tr>\n",
       "      <th>Person_4</th>\n",
       "      <td>NaN</td>\n",
       "      <td>David</td>\n",
       "      <td>40</td>\n",
       "      <td>NaN</td>\n",
       "    </tr>\n",
       "  </tbody>\n",
       "</table>\n",
       "</div>"
      ],
      "text/plain": [
       "           ID     Name  Age Location\n",
       "Person_1  NaN    Alice   25      NaN\n",
       "Person_2  NaN      Bob   30      NaN\n",
       "Person_3  NaN  Charlie   35      NaN\n",
       "Person_4  NaN    David   40      NaN"
      ]
     },
     "execution_count": 76,
     "metadata": {},
     "output_type": "execute_result"
    }
   ],
   "source": [
    "# Define values for both axis\n",
    "data = {\n",
    "    'Name': ['Alice', 'Bob', 'Charlie', 'David'],\n",
    "    'Age': [25, 30, 35, 40],\n",
    "    'City': ['New York', 'San Francisco', 'Los Angeles', 'Chicago'],\n",
    "    'DAP': []\n",
    "    \n",
    "}\n",
    "\n",
    "# Define custom index values\n",
    "custom_index = ['Person_1', 'Person_2', 'Person_3', 'Person_4']\n",
    "\n",
    "# Define custom column names\n",
    "custom_columns = ['ID', 'Name', 'Age', 'Location']\n",
    "\n",
    "# Creating a DataFrame with custom index and columns\n",
    "df = pd.DataFrame(data, index=custom_index, columns=custom_columns)\n",
    "\n",
    "# Displaying the DataFrame\n",
    "df"
   ]
  },
  {
   "cell_type": "code",
   "execution_count": 77,
   "id": "5776ba35",
   "metadata": {},
   "outputs": [
    {
     "data": {
      "text/html": [
       "<div>\n",
       "<style scoped>\n",
       "    .dataframe tbody tr th:only-of-type {\n",
       "        vertical-align: middle;\n",
       "    }\n",
       "\n",
       "    .dataframe tbody tr th {\n",
       "        vertical-align: top;\n",
       "    }\n",
       "\n",
       "    .dataframe thead th {\n",
       "        text-align: right;\n",
       "    }\n",
       "</style>\n",
       "<table border=\"1\" class=\"dataframe\">\n",
       "  <thead>\n",
       "    <tr style=\"text-align: right;\">\n",
       "      <th></th>\n",
       "      <th>FCA</th>\n",
       "      <th>CPT</th>\n",
       "      <th>CIP</th>\n",
       "      <th>DAP</th>\n",
       "      <th>DPU</th>\n",
       "      <th>DDP</th>\n",
       "    </tr>\n",
       "  </thead>\n",
       "  <tbody>\n",
       "    <tr>\n",
       "      <th>Importação China</th>\n",
       "      <td>62714.0</td>\n",
       "      <td>62796.8</td>\n",
       "      <td>65936.64</td>\n",
       "      <td>67346.01</td>\n",
       "      <td>67426.01</td>\n",
       "      <td>103064.25</td>\n",
       "    </tr>\n",
       "    <tr>\n",
       "      <th>Importação EUA</th>\n",
       "      <td>66460.0</td>\n",
       "      <td>66506.0</td>\n",
       "      <td>69831.30</td>\n",
       "      <td>71279.61</td>\n",
       "      <td>71359.61</td>\n",
       "      <td>109037.91</td>\n",
       "    </tr>\n",
       "  </tbody>\n",
       "</table>\n",
       "</div>"
      ],
      "text/plain": [
       "                      FCA      CPT       CIP       DAP       DPU        DDP\n",
       "Importação China  62714.0  62796.8  65936.64  67346.01  67426.01  103064.25\n",
       "Importação EUA    66460.0  66506.0  69831.30  71279.61  71359.61  109037.91"
      ]
     },
     "execution_count": 77,
     "metadata": {},
     "output_type": "execute_result"
    }
   ],
   "source": [
    "custos = {\n",
    "    'FCA': [FCA_Custo_Total_China, FCA_Custo_Total_EUA],\n",
    "    'CPT': [CPT_Custo_Total_China, CPT_Custo_Total_EUA],\n",
    "    'CIP': [CIP_Custo_Total_China, CIP_Custo_Total_EUA],\n",
    "    'DAP': [DAP_Custo_Total_China, DAP_Custo_Total_EUA],\n",
    "    'DPU': [DPU_Custo_Total_China, DPU_Custo_Total_EUA],\n",
    "    'DDP': [DDP_Custo_Total_China, DDP_Custo_Total_EUA]\n",
    "    \n",
    "}\n",
    "\n",
    "index = ['Importação China', 'Importação EUA']\n",
    "\n",
    "custos = pd.DataFrame(custos, index=index)\n",
    "\n",
    "custos"
   ]
  },
  {
   "cell_type": "code",
   "execution_count": 78,
   "id": "0bfd95ec",
   "metadata": {},
   "outputs": [
    {
     "data": {
      "image/png": "[encoded data removed]",
      "text/plain": [
       "<Figure size 640x480 with 1 Axes>"
      ]
     },
     "metadata": {},
     "output_type": "display_data"
    }
   ],
   "source": [
    "sns.set_palette('Accent')\n",
    "sns.set_style('darkgrid')\n",
    "\n",
    "custos.T.plot(kind='line', marker='o')\n",
    "plt.title('Comparação dos Custos de Importação: China vs EUA')\n",
    "plt.xlabel('Incoterms')\n",
    "plt.ylabel('Custos')\n",
    "\n",
    "plt.show()"
   ]
  },
  {
   "cell_type": "markdown",
   "id": "baaad0ae",
   "metadata": {},
   "source": [
    "## Parte III: Conclusão"
   ]
  },
  {
   "cell_type": "raw",
   "id": "cd6bce92",
   "metadata": {},
   "source": [
    "A opção de compra mais adequada seria a do fornecedor chinês por ter preços mais competitivos em todos os incoterms. Dito isso, considerando os custos ocultos de gerenciamento dos processos de importação, o DDP poderia ser a melhor opção enquanto comprador, pois assim se teria menos responsabilidades, a não ser que haja uma necessidade de se ter um maior controle do processo. Porém, como o DDP não está disponível no Brasil, teria que se optar pelo DPU ou DAP. "
   ]
  }
 ],
 "metadata": {
  "kernelspec": {
   "display_name": "Python 3 (ipykernel)",
   "language": "python",
   "name": "python3"
  },
  "language_info": {
   "codemirror_mode": {
    "name": "ipython",
    "version": 3
   },
   "file_extension": ".py",
   "mimetype": "text/x-python",
   "name": "python",
   "nbconvert_exporter": "python",
   "pygments_lexer": "ipython3",
   "version": "3.9.13"
  }
 },
 "nbformat": 4,
 "nbformat_minor": 5
}
